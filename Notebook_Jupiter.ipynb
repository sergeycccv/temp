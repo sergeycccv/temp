{
 "cells": [
  {
   "cell_type": "code",
   "execution_count": null,
   "metadata": {},
   "outputs": [],
   "source": [
    "print('hello')"
   ]
  },
  {
   "cell_type": "code",
   "execution_count": null,
   "metadata": {},
   "outputs": [],
   "source": [
    "hel = input()\n",
    "print(f'{hel}') if hel == 'OK' else print('NO')"
   ]
  },
  {
   "cell_type": "code",
   "execution_count": null,
   "metadata": {},
   "outputs": [],
   "source": [
    "# Сортировка вставками\n",
    "\n",
    "def insertion_sort(arr):\n",
    "    for i in range(1, len(arr)):\n",
    "        key = arr[i]\n",
    "        j = i - 1\n",
    "        while j >= 0 and key < arr[j]:\n",
    "            arr[j + 1] = arr[j]\n",
    "            j -= 1\n",
    "        arr[j + 1] = key\n",
    "\n",
    "# Пример использования:\n",
    "arr = [5, 2, 1, 4, 3]\n",
    "insertion_sort(arr)\n",
    "print(arr)\n"
   ]
  },
  {
   "cell_type": "code",
   "execution_count": null,
   "metadata": {},
   "outputs": [],
   "source": [
    "def main():\n",
    "    print(f'Hello, {input_name()}!')\n",
    "\n",
    "\n",
    "def input_name():\n",
    "    return input('Enter your name: ')\n",
    "\n",
    "\n",
    "if __name__ == '__main__':\n",
    "    main()"
   ]
  },
  {
   "cell_type": "code",
   "execution_count": null,
   "metadata": {},
   "outputs": [],
   "source": [
    "# Парсинг сайтов\n",
    "\n",
    "st_accept = \"text/html\" # говорим веб-серверу, \n",
    "                        # что хотим получить html\n",
    "# имитируем подключение через браузер Mozilla на macOS\n",
    "st_user_agent = \"Mozilla/5.0 (Macintosh; Intel Mac OS X 12_3_1) AppleWebKit/605.1.15 (KHTML, like Gecko) Version/15.4 Safari/605.1.15\"\n",
    "# формируем хеш заголовков\n",
    "headers = {\n",
    "   \"Accept\": st_accept,\n",
    "   \"User-Agent\": st_user_agent\n",
    "}\n",
    "# импортируем модуль\n",
    "import requests\n",
    "# отправляем запрос с заголовками по нужному адресу\n",
    "req = requests.get(\"https://selectel.ru/blog/courses/\", headers)\n",
    "# считываем текст HTML-документа\n",
    "src = req.text\n",
    "print(src)"
   ]
  }
 ],
 "metadata": {
  "kernelspec": {
   "display_name": "Python 3",
   "language": "python",
   "name": "python3"
  },
  "language_info": {
   "codemirror_mode": {
    "name": "ipython",
    "version": 3
   },
   "file_extension": ".py",
   "mimetype": "text/x-python",
   "name": "python",
   "nbconvert_exporter": "python",
   "pygments_lexer": "ipython3",
   "version": "3.11.2"
  },
  "orig_nbformat": 4
 },
 "nbformat": 4,
 "nbformat_minor": 2
}
